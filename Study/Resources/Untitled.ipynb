{
 "cells": [
  {
   "cell_type": "code",
   "execution_count": 1,
   "id": "715e8b6c-92e2-49db-aa6b-34756d5297ff",
   "metadata": {},
   "outputs": [],
   "source": [
    "import json"
   ]
  },
  {
   "cell_type": "code",
   "execution_count": 8,
   "id": "9800fe18-2828-4d2e-afc7-7060aa03e6d0",
   "metadata": {},
   "outputs": [
    {
     "data": {
      "text/plain": [
       "'Vielen Dank, dass Sie an dieser Studie teilnehmen.\\n\\nIhre Aufgabe ist es, die gezeigten (kleinen) Java-Programme zu verstehen, sodass Sie im Anschluss eine Frage zur Funktionalität des Programms beantworten können.\\n\\nJedes dieser kleinen Programme kann bis zu 3 Minuten betrachtet werden.\\nSie können aber auch jederzeit mit <Leertaste> fortfahren.\\n\\n<Weiter mit Leertaste>'"
      ]
     },
     "execution_count": 8,
     "metadata": {},
     "output_type": "execute_result"
    }
   ],
   "source": [
    "f = open(\"textbase.json\", 'rb')\n",
    "data = json.load(f)\n",
    "data[\"Hello\"][\"German\"]"
   ]
  },
  {
   "cell_type": "code",
   "execution_count": null,
   "id": "71f66d54-c1b0-4bf9-9726-804f6b156b92",
   "metadata": {},
   "outputs": [],
   "source": []
  }
 ],
 "metadata": {
  "kernelspec": {
   "display_name": "Python 3",
   "language": "python",
   "name": "python3"
  },
  "language_info": {
   "codemirror_mode": {
    "name": "ipython",
    "version": 3
   },
   "file_extension": ".py",
   "mimetype": "text/x-python",
   "name": "python",
   "nbconvert_exporter": "python",
   "pygments_lexer": "ipython3",
   "version": "3.8.5"
  }
 },
 "nbformat": 4,
 "nbformat_minor": 5
}
